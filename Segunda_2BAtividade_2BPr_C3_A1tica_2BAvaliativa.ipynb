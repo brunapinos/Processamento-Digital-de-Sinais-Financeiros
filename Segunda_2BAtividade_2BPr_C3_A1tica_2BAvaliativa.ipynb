{
 "cells": [
  {
   "cell_type": "markdown",
   "metadata": {},
   "source": [
    "<ul>\n",
    "    <li> <h2><b>Universidade de Brasília - UnB</b></h2> </li>\n",
    "    <li> <b>Campus UnB Gama</b> </li>\n",
    "    <li> <b>Disciplina: Processamento Digital de Sinais Financeiros</b> </li>\n",
    "    <a href=\"https://www.linkedin.com/in/marcelino-andrade-b164b369/\">\n",
    "    <li> <b>Prof. Marcelino Monteiro de Andrade Dr.</b> </li>\n",
    "</ul>\n",
    "\n",
    "\n",
    "    Segunda (1/5) Atividade Prática Avaliativa\n",
    "    Entrega da Atividade 22/10/2019 \n",
    "    \"A não entrega na data esperada reduz em 50% na nota da avaliação\""
   ]
  },
  {
   "cell_type": "markdown",
   "metadata": {},
   "source": [
    "\n",
    "<div id=\"Tópicos\">\n",
    "    <h2>Questões</h2>\n",
    "</div>\n",
    "\n",
    "\n",
    "<div class=\"alert alert-block alert-info\" style=\"margin-top: 20px\">\n",
    "    <ol> \n",
    "        <li><a href=\"#Tópico 0\">Questão 1</a></li>\n",
    "        <li><a href=\"#Tópico 1\">Questão 2</a></li>\n",
    "        <li><a href=\"#Tópico 2\">Questão 3</a></li>\n",
    "        <li><a href=\"#Tópico 3\">Questão 4</a></li>\n",
    "\n",
    "</ol>\n",
    "</div>\n"
   ]
  },
  {
   "cell_type": "markdown",
   "metadata": {
    "collapsed": true
   },
   "source": [
    "<div id=\"Tópico 0\">\n",
    "    <div class=\"alert alert-block alert-info\" style=\"margin-top: 0px\">\n",
    "        <h><a href=\"#Tópicos\"><h>1) Questão 1:</h></a></h>   Implemente uma estratégia de trade automático baseado em duas médias móveis e verifique o desempenho quanto ao Índice Sharpe. Utilize um período mínimo de 3 anos e os 5 (cinco) ativos escolhidos na primeira avaliação.\n",
    " \n",
    "</div> </div> </div> \n"
   ]
  },
  {
   "cell_type": "code",
   "execution_count": 1,
   "metadata": {
    "collapsed": true
   },
   "outputs": [],
   "source": [
    "a=1"
   ]
  },
  {
   "cell_type": "markdown",
   "metadata": {
    "collapsed": true
   },
   "source": [
    "<div id=\"Tópico 1\">\n",
    "    <div class=\"alert alert-block alert-info\" style=\"margin-top: 0px\">\n",
    "        <h><a href=\"#Tópicos\"><h>1) Questão 2:</h></a></h>  Implemente uma estratégia de trade automático baseado em duas médias móveis anterior, adicionando à aplicação o RSI ou MACD. Verifique o desempenho quanto ao Índice Sharpe nos mesmos ativos e tempo da questão 1.\n",
    "  \n",
    "</div> </div> "
   ]
  },
  {
   "cell_type": "code",
   "execution_count": 2,
   "metadata": {
    "collapsed": true
   },
   "outputs": [],
   "source": [
    "a=1"
   ]
  },
  {
   "cell_type": "markdown",
   "metadata": {
    "collapsed": true
   },
   "source": [
    "<div id=\"Tópico 2\">\n",
    "    <div class=\"alert alert-block alert-info\" style=\"margin-top: 0px\">\n",
    "        <h><a href=\"#Tópicos\"><h>1) Questão 3:</h></a></h> Escolha uma estratégia de trade automático de contra tendência, apresentada na Referência Palex . Verifique o desempenho quanto ao Índice Sharpe nos mesmos ativos e tempo da questão 1.  \n",
    "</div> </div> "
   ]
  },
  {
   "cell_type": "code",
   "execution_count": 3,
   "metadata": {
    "collapsed": true
   },
   "outputs": [],
   "source": [
    "a=1"
   ]
  },
  {
   "cell_type": "markdown",
   "metadata": {
    "collapsed": true
   },
   "source": [
    "<div id=\"Tópico 3\">\n",
    "    <div class=\"alert alert-block alert-info\" style=\"margin-top: 0px\">\n",
    "        <h><a href=\"#Tópicos\"><h>1) Questão 4: </h></a></h>Compare os resultados das três estrategias de trades, quanto: a) Retorno de Capital, b) Número de Trades, c) Taxa de Acertos, d) Fator de Lucro, e) Índice Sharpe e o f) retorno dos ativos avaliados na condição buy&hold.   \n",
    "</div> </div> "
   ]
  },
  {
   "cell_type": "code",
   "execution_count": 4,
   "metadata": {
    "collapsed": true
   },
   "outputs": [],
   "source": [
    "a=1"
   ]
  }
 ],
 "metadata": {
  "kernelspec": {
   "display_name": "Python 3",
   "language": "python",
   "name": "python3"
  },
  "language_info": {
   "codemirror_mode": {
    "name": "ipython",
    "version": 3
   },
   "file_extension": ".py",
   "mimetype": "text/x-python",
   "name": "python",
   "nbconvert_exporter": "python",
   "pygments_lexer": "ipython3",
   "version": "3.6.8"
  }
 },
 "nbformat": 4,
 "nbformat_minor": 2
}
